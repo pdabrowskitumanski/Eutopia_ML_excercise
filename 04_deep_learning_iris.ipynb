{
 "cells": [
  {
   "cell_type": "markdown",
   "id": "531fcf7a",
   "metadata": {},
   "source": [
    "## \"\"\" This example commes from https://www.kaggle.com/code/rushabhwadkar/deep-learning-with-keras-on-iris-dataset/notebook \"\"\""
   ]
  },
  {
   "cell_type": "markdown",
   "id": "315d6128",
   "metadata": {},
   "source": [
    "## imports"
   ]
  },
  {
   "cell_type": "code",
   "execution_count": 5,
   "id": "54c7ec33",
   "metadata": {},
   "outputs": [],
   "source": [
    "import seaborn as sns\n",
    "import pandas as pd\n",
    "from sklearn.model_selection import train_test_split, GridSearchCV\n",
    "from sklearn.preprocessing import OneHotEncoder, LabelEncoder, StandardScaler\n",
    "from tensorflow import keras\n",
    "from tensorflow.keras import layers"
   ]
  },
  {
   "cell_type": "markdown",
   "id": "8343b41d",
   "metadata": {},
   "source": [
    "## loading data"
   ]
  },
  {
   "cell_type": "code",
   "execution_count": 6,
   "id": "7d9d06c6",
   "metadata": {},
   "outputs": [],
   "source": [
    "iris = sns.load_dataset('iris')\n",
    "df = pd.DataFrame(iris)"
   ]
  },
  {
   "cell_type": "markdown",
   "id": "ba9e1d7b",
   "metadata": {},
   "source": [
    "### reshaping y"
   ]
  },
  {
   "cell_type": "code",
   "execution_count": 12,
   "id": "9c3b3182",
   "metadata": {},
   "outputs": [
    {
     "data": {
      "text/plain": [
       "array([[1., 0., 0.],\n",
       "       [1., 0., 0.],\n",
       "       [1., 0., 0.],\n",
       "       [1., 0., 0.],\n",
       "       [1., 0., 0.],\n",
       "       [1., 0., 0.],\n",
       "       [1., 0., 0.],\n",
       "       [1., 0., 0.],\n",
       "       [1., 0., 0.],\n",
       "       [1., 0., 0.],\n",
       "       [1., 0., 0.],\n",
       "       [1., 0., 0.],\n",
       "       [1., 0., 0.],\n",
       "       [1., 0., 0.],\n",
       "       [1., 0., 0.],\n",
       "       [1., 0., 0.],\n",
       "       [1., 0., 0.],\n",
       "       [1., 0., 0.],\n",
       "       [1., 0., 0.],\n",
       "       [1., 0., 0.],\n",
       "       [1., 0., 0.],\n",
       "       [1., 0., 0.],\n",
       "       [1., 0., 0.],\n",
       "       [1., 0., 0.],\n",
       "       [1., 0., 0.],\n",
       "       [1., 0., 0.],\n",
       "       [1., 0., 0.],\n",
       "       [1., 0., 0.],\n",
       "       [1., 0., 0.],\n",
       "       [1., 0., 0.],\n",
       "       [1., 0., 0.],\n",
       "       [1., 0., 0.],\n",
       "       [1., 0., 0.],\n",
       "       [1., 0., 0.],\n",
       "       [1., 0., 0.],\n",
       "       [1., 0., 0.],\n",
       "       [1., 0., 0.],\n",
       "       [1., 0., 0.],\n",
       "       [1., 0., 0.],\n",
       "       [1., 0., 0.],\n",
       "       [1., 0., 0.],\n",
       "       [1., 0., 0.],\n",
       "       [1., 0., 0.],\n",
       "       [1., 0., 0.],\n",
       "       [1., 0., 0.],\n",
       "       [1., 0., 0.],\n",
       "       [1., 0., 0.],\n",
       "       [1., 0., 0.],\n",
       "       [1., 0., 0.],\n",
       "       [1., 0., 0.],\n",
       "       [0., 1., 0.],\n",
       "       [0., 1., 0.],\n",
       "       [0., 1., 0.],\n",
       "       [0., 1., 0.],\n",
       "       [0., 1., 0.],\n",
       "       [0., 1., 0.],\n",
       "       [0., 1., 0.],\n",
       "       [0., 1., 0.],\n",
       "       [0., 1., 0.],\n",
       "       [0., 1., 0.],\n",
       "       [0., 1., 0.],\n",
       "       [0., 1., 0.],\n",
       "       [0., 1., 0.],\n",
       "       [0., 1., 0.],\n",
       "       [0., 1., 0.],\n",
       "       [0., 1., 0.],\n",
       "       [0., 1., 0.],\n",
       "       [0., 1., 0.],\n",
       "       [0., 1., 0.],\n",
       "       [0., 1., 0.],\n",
       "       [0., 1., 0.],\n",
       "       [0., 1., 0.],\n",
       "       [0., 1., 0.],\n",
       "       [0., 1., 0.],\n",
       "       [0., 1., 0.],\n",
       "       [0., 1., 0.],\n",
       "       [0., 1., 0.],\n",
       "       [0., 1., 0.],\n",
       "       [0., 1., 0.],\n",
       "       [0., 1., 0.],\n",
       "       [0., 1., 0.],\n",
       "       [0., 1., 0.],\n",
       "       [0., 1., 0.],\n",
       "       [0., 1., 0.],\n",
       "       [0., 1., 0.],\n",
       "       [0., 1., 0.],\n",
       "       [0., 1., 0.],\n",
       "       [0., 1., 0.],\n",
       "       [0., 1., 0.],\n",
       "       [0., 1., 0.],\n",
       "       [0., 1., 0.],\n",
       "       [0., 1., 0.],\n",
       "       [0., 1., 0.],\n",
       "       [0., 1., 0.],\n",
       "       [0., 1., 0.],\n",
       "       [0., 1., 0.],\n",
       "       [0., 1., 0.],\n",
       "       [0., 1., 0.],\n",
       "       [0., 1., 0.],\n",
       "       [0., 1., 0.],\n",
       "       [0., 0., 1.],\n",
       "       [0., 0., 1.],\n",
       "       [0., 0., 1.],\n",
       "       [0., 0., 1.],\n",
       "       [0., 0., 1.],\n",
       "       [0., 0., 1.],\n",
       "       [0., 0., 1.],\n",
       "       [0., 0., 1.],\n",
       "       [0., 0., 1.],\n",
       "       [0., 0., 1.],\n",
       "       [0., 0., 1.],\n",
       "       [0., 0., 1.],\n",
       "       [0., 0., 1.],\n",
       "       [0., 0., 1.],\n",
       "       [0., 0., 1.],\n",
       "       [0., 0., 1.],\n",
       "       [0., 0., 1.],\n",
       "       [0., 0., 1.],\n",
       "       [0., 0., 1.],\n",
       "       [0., 0., 1.],\n",
       "       [0., 0., 1.],\n",
       "       [0., 0., 1.],\n",
       "       [0., 0., 1.],\n",
       "       [0., 0., 1.],\n",
       "       [0., 0., 1.],\n",
       "       [0., 0., 1.],\n",
       "       [0., 0., 1.],\n",
       "       [0., 0., 1.],\n",
       "       [0., 0., 1.],\n",
       "       [0., 0., 1.],\n",
       "       [0., 0., 1.],\n",
       "       [0., 0., 1.],\n",
       "       [0., 0., 1.],\n",
       "       [0., 0., 1.],\n",
       "       [0., 0., 1.],\n",
       "       [0., 0., 1.],\n",
       "       [0., 0., 1.],\n",
       "       [0., 0., 1.],\n",
       "       [0., 0., 1.],\n",
       "       [0., 0., 1.],\n",
       "       [0., 0., 1.],\n",
       "       [0., 0., 1.],\n",
       "       [0., 0., 1.],\n",
       "       [0., 0., 1.],\n",
       "       [0., 0., 1.],\n",
       "       [0., 0., 1.],\n",
       "       [0., 0., 1.],\n",
       "       [0., 0., 1.],\n",
       "       [0., 0., 1.],\n",
       "       [0., 0., 1.]], dtype=float32)"
      ]
     },
     "execution_count": 12,
     "metadata": {},
     "output_type": "execute_result"
    }
   ],
   "source": [
    "lbl_clf = LabelEncoder()\n",
    "Y = df['species']\n",
    "X = df.drop(['species'], axis=1)\n",
    "Y_encoded = lbl_clf.fit_transform(Y)\n",
    "Y_final = keras.utils.to_categorical(Y_encoded)\n",
    "Y_final"
   ]
  },
  {
   "cell_type": "markdown",
   "id": "9bd0323c",
   "metadata": {},
   "source": [
    "### splitting data"
   ]
  },
  {
   "cell_type": "code",
   "execution_count": 13,
   "id": "450032cd",
   "metadata": {},
   "outputs": [],
   "source": [
    "x_train, x_test, y_train, y_test = train_test_split(X, Y_final, test_size=0.25, random_state=0, stratify=Y_encoded, shuffle=True)"
   ]
  },
  {
   "cell_type": "markdown",
   "id": "c24f8111",
   "metadata": {},
   "source": [
    "### standarizing the dataset"
   ]
  },
  {
   "cell_type": "code",
   "execution_count": 14,
   "id": "ec62b403",
   "metadata": {},
   "outputs": [],
   "source": [
    "std_clf = StandardScaler()\n",
    "x_train_new = std_clf.fit_transform(x_train)\n",
    "x_test_new = std_clf.transform(x_test)"
   ]
  },
  {
   "cell_type": "markdown",
   "id": "46cf45a6",
   "metadata": {},
   "source": [
    "## model definition and fitting"
   ]
  },
  {
   "cell_type": "code",
   "execution_count": 15,
   "id": "c73c07ac",
   "metadata": {},
   "outputs": [
    {
     "name": "stdout",
     "output_type": "stream",
     "text": [
      "Epoch 1/50\n"
     ]
    },
    {
     "name": "stderr",
     "output_type": "stream",
     "text": [
      "2022-07-04 11:56:37.011369: I tensorflow/core/platform/cpu_feature_guard.cc:193] This TensorFlow binary is optimized with oneAPI Deep Neural Network Library (oneDNN) to use the following CPU instructions in performance-critical operations:  AVX2 FMA\n",
      "To enable them in other operations, rebuild TensorFlow with the appropriate compiler flags.\n"
     ]
    },
    {
     "name": "stdout",
     "output_type": "stream",
     "text": [
      "16/16 [==============================] - 0s 1ms/step - loss: 0.7971 - accuracy: 0.8036\n",
      "Epoch 2/50\n",
      "16/16 [==============================] - 0s 1ms/step - loss: 0.4974 - accuracy: 0.8214\n",
      "Epoch 3/50\n",
      "16/16 [==============================] - 0s 2ms/step - loss: 0.3892 - accuracy: 0.8393\n",
      "Epoch 4/50\n",
      "16/16 [==============================] - 0s 1ms/step - loss: 0.3326 - accuracy: 0.8750\n",
      "Epoch 5/50\n",
      "16/16 [==============================] - 0s 1ms/step - loss: 0.3039 - accuracy: 0.9018\n",
      "Epoch 6/50\n",
      "16/16 [==============================] - 0s 1ms/step - loss: 0.2743 - accuracy: 0.9286\n",
      "Epoch 7/50\n",
      "16/16 [==============================] - 0s 1ms/step - loss: 0.2511 - accuracy: 0.9286\n",
      "Epoch 8/50\n",
      "16/16 [==============================] - 0s 1ms/step - loss: 0.2295 - accuracy: 0.9375\n",
      "Epoch 9/50\n",
      "16/16 [==============================] - 0s 1ms/step - loss: 0.2116 - accuracy: 0.9375\n",
      "Epoch 10/50\n",
      "16/16 [==============================] - 0s 1ms/step - loss: 0.1904 - accuracy: 0.9286\n",
      "Epoch 11/50\n",
      "16/16 [==============================] - 0s 1ms/step - loss: 0.1748 - accuracy: 0.9464\n",
      "Epoch 12/50\n",
      "16/16 [==============================] - 0s 1ms/step - loss: 0.1626 - accuracy: 0.9375\n",
      "Epoch 13/50\n",
      "16/16 [==============================] - 0s 1ms/step - loss: 0.1458 - accuracy: 0.9464\n",
      "Epoch 14/50\n",
      "16/16 [==============================] - 0s 925us/step - loss: 0.1359 - accuracy: 0.9464\n",
      "Epoch 15/50\n",
      "16/16 [==============================] - 0s 843us/step - loss: 0.1248 - accuracy: 0.9464\n",
      "Epoch 16/50\n",
      "16/16 [==============================] - 0s 784us/step - loss: 0.1176 - accuracy: 0.9554\n",
      "Epoch 17/50\n",
      "16/16 [==============================] - 0s 742us/step - loss: 0.1094 - accuracy: 0.9554\n",
      "Epoch 18/50\n",
      "16/16 [==============================] - 0s 880us/step - loss: 0.1041 - accuracy: 0.9554\n",
      "Epoch 19/50\n",
      "16/16 [==============================] - 0s 830us/step - loss: 0.1005 - accuracy: 0.9554\n",
      "Epoch 20/50\n",
      "16/16 [==============================] - 0s 975us/step - loss: 0.0947 - accuracy: 0.9554\n",
      "Epoch 21/50\n",
      "16/16 [==============================] - 0s 837us/step - loss: 0.0936 - accuracy: 0.9554\n",
      "Epoch 22/50\n",
      "16/16 [==============================] - 0s 800us/step - loss: 0.0889 - accuracy: 0.9554\n",
      "Epoch 23/50\n",
      "16/16 [==============================] - 0s 892us/step - loss: 0.0846 - accuracy: 0.9643\n",
      "Epoch 24/50\n",
      "16/16 [==============================] - 0s 799us/step - loss: 0.0881 - accuracy: 0.9732\n",
      "Epoch 25/50\n",
      "16/16 [==============================] - 0s 1ms/step - loss: 0.0837 - accuracy: 0.9554\n",
      "Epoch 26/50\n",
      "16/16 [==============================] - 0s 907us/step - loss: 0.0798 - accuracy: 0.9554\n",
      "Epoch 27/50\n",
      "16/16 [==============================] - 0s 1ms/step - loss: 0.0756 - accuracy: 0.9643\n",
      "Epoch 28/50\n",
      "16/16 [==============================] - 0s 980us/step - loss: 0.0735 - accuracy: 0.9643\n",
      "Epoch 29/50\n",
      "16/16 [==============================] - 0s 1ms/step - loss: 0.0731 - accuracy: 0.9643\n",
      "Epoch 30/50\n",
      "16/16 [==============================] - 0s 1ms/step - loss: 0.0733 - accuracy: 0.9554\n",
      "Epoch 31/50\n",
      "16/16 [==============================] - 0s 956us/step - loss: 0.0714 - accuracy: 0.9643\n",
      "Epoch 32/50\n",
      "16/16 [==============================] - 0s 982us/step - loss: 0.0687 - accuracy: 0.9643\n",
      "Epoch 33/50\n",
      "16/16 [==============================] - 0s 1ms/step - loss: 0.0676 - accuracy: 0.9732\n",
      "Epoch 34/50\n",
      "16/16 [==============================] - 0s 1ms/step - loss: 0.0654 - accuracy: 0.9732\n",
      "Epoch 35/50\n",
      "16/16 [==============================] - 0s 915us/step - loss: 0.0668 - accuracy: 0.9643\n",
      "Epoch 36/50\n",
      "16/16 [==============================] - 0s 1ms/step - loss: 0.0790 - accuracy: 0.9554\n",
      "Epoch 37/50\n",
      "16/16 [==============================] - 0s 825us/step - loss: 0.0643 - accuracy: 0.9643\n",
      "Epoch 38/50\n",
      "16/16 [==============================] - 0s 963us/step - loss: 0.0651 - accuracy: 0.9821\n",
      "Epoch 39/50\n",
      "16/16 [==============================] - 0s 880us/step - loss: 0.0621 - accuracy: 0.9732\n",
      "Epoch 40/50\n",
      "16/16 [==============================] - 0s 951us/step - loss: 0.0615 - accuracy: 0.9821\n",
      "Epoch 41/50\n",
      "16/16 [==============================] - 0s 927us/step - loss: 0.0621 - accuracy: 0.9732\n",
      "Epoch 42/50\n",
      "16/16 [==============================] - 0s 1ms/step - loss: 0.0603 - accuracy: 0.9732\n",
      "Epoch 43/50\n",
      "16/16 [==============================] - 0s 3ms/step - loss: 0.0594 - accuracy: 0.9821\n",
      "Epoch 44/50\n",
      "16/16 [==============================] - 0s 1ms/step - loss: 0.0603 - accuracy: 0.9732\n",
      "Epoch 45/50\n",
      "16/16 [==============================] - 0s 1ms/step - loss: 0.0578 - accuracy: 0.9732\n",
      "Epoch 46/50\n",
      "16/16 [==============================] - 0s 1ms/step - loss: 0.0589 - accuracy: 0.9821\n",
      "Epoch 47/50\n",
      "16/16 [==============================] - 0s 2ms/step - loss: 0.0626 - accuracy: 0.9732\n",
      "Epoch 48/50\n",
      "16/16 [==============================] - 0s 1ms/step - loss: 0.0567 - accuracy: 0.9821\n",
      "Epoch 49/50\n",
      "16/16 [==============================] - 0s 1ms/step - loss: 0.0634 - accuracy: 0.9732\n",
      "Epoch 50/50\n",
      "16/16 [==============================] - 0s 872us/step - loss: 0.0664 - accuracy: 0.9732\n"
     ]
    }
   ],
   "source": [
    "model = keras.Sequential([\n",
    "    layers.Dense(512, activation=\"relu\"),\n",
    "    layers.Dense(3, activation=\"softmax\")\n",
    "])\n",
    "model.compile(optimizer='adam', loss='categorical_crossentropy', metrics=['accuracy'])\n",
    "\n",
    "iris_model = model.fit(x_train_new, y_train, epochs=50, batch_size=7)"
   ]
  },
  {
   "cell_type": "markdown",
   "id": "16bfa3e9",
   "metadata": {},
   "source": [
    "## Evaluation"
   ]
  },
  {
   "cell_type": "code",
   "execution_count": 16,
   "id": "f8f347ef",
   "metadata": {},
   "outputs": [
    {
     "name": "stdout",
     "output_type": "stream",
     "text": [
      "2/2 [==============================] - 0s 2ms/step - loss: 0.0595 - accuracy: 0.9474\n"
     ]
    },
    {
     "data": {
      "text/plain": [
       "[0.05945940315723419, 0.9473684430122375]"
      ]
     },
     "execution_count": 16,
     "metadata": {},
     "output_type": "execute_result"
    }
   ],
   "source": [
    "model.evaluate(x_test_new, y_test)"
   ]
  }
 ],
 "metadata": {
  "kernelspec": {
   "display_name": "Python 3 (ipykernel)",
   "language": "python",
   "name": "python3"
  },
  "language_info": {
   "codemirror_mode": {
    "name": "ipython",
    "version": 3
   },
   "file_extension": ".py",
   "mimetype": "text/x-python",
   "name": "python",
   "nbconvert_exporter": "python",
   "pygments_lexer": "ipython3",
   "version": "3.8.13"
  }
 },
 "nbformat": 4,
 "nbformat_minor": 5
}
